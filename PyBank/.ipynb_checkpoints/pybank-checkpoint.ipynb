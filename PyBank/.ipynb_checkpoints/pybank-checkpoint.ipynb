{
 "cells": [
  {
   "cell_type": "code",
   "execution_count": 5,
   "id": "d0c95e7c",
   "metadata": {
    "scrolled": false
   },
   "outputs": [
    {
     "name": "stdout",
     "output_type": "stream",
     "text": [
      "Financial Analysis\n",
      "------------------------------------\n",
      "Total Months: 86\n",
      "Total: $22564198\n",
      "Average Change: $-8311.11\n",
      "Greatest Increase In Profits: Aug-16 ($1862002)\n",
      "Greatest Decrease In Profits: Feb-14 ($-1825558)\n",
      "\n"
     ]
    }
   ],
   "source": [
    "import csv\n",
    "import os\n",
    "\n",
    "#files to upload and output\n",
    "file_to_load = os.path.join(\".\",\"Resources\",\"budget_data.csv\")\n",
    "file_to_output = os.path.join(\".\",\"budget_analysis.txt\")\n",
    "\n",
    "total_months = 0\n",
    "total_net = 0\n",
    "net_change_list = []\n",
    "dates = []\n",
    "\n",
    "\n",
    "#open csv file \n",
    "with open(file_to_load) as financial_data:\n",
    "    reader = csv.reader(financial_data)\n",
    "    \n",
    "    #read and ignore the header\n",
    "    header = next(reader)\n",
    "    \n",
    "    first_row = next(reader)\n",
    "    \n",
    "    total_net = total_net + int(first_row[1])\n",
    "    previous_net = int(first_row[1]) \n",
    "    \n",
    "    total_months = total_months + 1\n",
    "    \n",
    "    #loop through the remaining rows\n",
    "    for row in reader:\n",
    "        \n",
    "        total_months = total_months + 1\n",
    "        #print(total_months)\n",
    "        total_net = total_net + int(row[1])\n",
    "        \n",
    "        \n",
    "        #calculate the net change\n",
    "\n",
    "        net_change = int(row[1])- previous_net  \n",
    "        previous_net = int(row[1])\n",
    "        \n",
    "        net_change_list.append(net_change)\n",
    "        dates.append(row[0])\n",
    "     \n",
    "    \n",
    "        average_change = sum(net_change_list)/len(net_change_list)\n",
    "    \n",
    "        #calculate greatest increase in profits\n",
    "        greatest_profits_increase = max(net_change_list)\n",
    "        increase_date = dates[net_change_list.index(greatest_profits_increase)]\n",
    "\n",
    "        \n",
    "        #calculate greatest decrease in profits\n",
    "        greatest_profits_decrease = min(net_change_list)\n",
    "        decrease_date = dates[net_change_list.index(greatest_profits_decrease)]\n",
    "        #print(decrease_date)\n",
    "         \n",
    "\n",
    "        \n",
    "output = (\n",
    "    f\"Financial Analysis\\n\"\n",
    "    f\"------------------------------------\\n\"\n",
    "    f\"Total Months: {total_months}\\n\"\n",
    "    f\"Total: ${total_net}\\n\"\n",
    "    f\"Average Change: ${average_change:.2f}\\n\"\n",
    "    f\"Greatest Increase In Profits: {increase_date} (${greatest_profits_increase})\\n\"\n",
    "    f\"Greatest Decrease In Profits: {decrease_date} (${greatest_profits_decrease})\\n\" \n",
    ")\n",
    "    \n",
    "print(output)\n",
    "\n",
    "        \n",
    "with open(file_to_output,\"w\") as text_file:\n",
    "    text_file.write(output)\n",
    "\n"
   ]
  },
  {
   "cell_type": "code",
   "execution_count": null,
   "id": "e399f6c0",
   "metadata": {},
   "outputs": [],
   "source": []
  },
  {
   "cell_type": "code",
   "execution_count": null,
   "id": "f7ea9375",
   "metadata": {},
   "outputs": [],
   "source": []
  },
  {
   "cell_type": "code",
   "execution_count": null,
   "id": "4bbc6c58",
   "metadata": {},
   "outputs": [],
   "source": []
  },
  {
   "cell_type": "code",
   "execution_count": null,
   "id": "f07f30bd",
   "metadata": {},
   "outputs": [],
   "source": []
  },
  {
   "cell_type": "code",
   "execution_count": null,
   "id": "265248e0",
   "metadata": {},
   "outputs": [],
   "source": []
  },
  {
   "cell_type": "code",
   "execution_count": null,
   "id": "c7009262",
   "metadata": {},
   "outputs": [],
   "source": []
  },
  {
   "cell_type": "code",
   "execution_count": null,
   "id": "7e89db20",
   "metadata": {},
   "outputs": [],
   "source": []
  },
  {
   "cell_type": "code",
   "execution_count": null,
   "id": "02f4c5c9",
   "metadata": {},
   "outputs": [],
   "source": []
  }
 ],
 "metadata": {
  "kernelspec": {
   "display_name": "Python 3 (ipykernel)",
   "language": "python",
   "name": "python3"
  },
  "language_info": {
   "codemirror_mode": {
    "name": "ipython",
    "version": 3
   },
   "file_extension": ".py",
   "mimetype": "text/x-python",
   "name": "python",
   "nbconvert_exporter": "python",
   "pygments_lexer": "ipython3",
   "version": "3.11.4"
  }
 },
 "nbformat": 4,
 "nbformat_minor": 5
}
